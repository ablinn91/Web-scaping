{
 "cells": [
  {
   "cell_type": "code",
   "execution_count": 1,
   "metadata": {},
   "outputs": [],
   "source": [
    "#10/05/2019 this was imported in from webscrapping 10.3.9\n",
    "from flask import Flask, render_template, redirect\n",
    "from flask_pymongo import PyMongo\n",
    "import pandas as pd\n"
   ]
  },
  {
   "cell_type": "code",
   "execution_count": 2,
   "metadata": {},
   "outputs": [],
   "source": [
    "import scrape_nasa"
   ]
  },
  {
   "cell_type": "code",
   "execution_count": 3,
   "metadata": {},
   "outputs": [],
   "source": [
    "app = Flask(__name__)"
   ]
  },
  {
   "cell_type": "code",
   "execution_count": 4,
   "metadata": {},
   "outputs": [],
   "source": [
    "@app.route(\"/\")\n",
    "@app.route(\"/\")\n",
    "def index():\n",
    "    listings = mongo.db.listings.find_one()\n",
    "    return render_template(\"index.html\", listings=listings)"
   ]
  },
  {
   "cell_type": "code",
   "execution_count": 5,
   "metadata": {},
   "outputs": [],
   "source": [
    "from splinter import Browser\n",
    "from bs4 import BeautifulSoup\n",
    "\n",
    "\n",
    "def init_browser():\n",
    "    # @NOTE: Replace the path with your actual path to the chromedriver\n",
    "    executable_path = {\"executable_path\": \"C:\\chrome_driver\\chromedriver.exe\"}\n",
    "    return Browser(\"chrome\", **executable_path, headless=False)"
   ]
  },
  {
   "cell_type": "code",
   "execution_count": 6,
   "metadata": {},
   "outputs": [],
   "source": [
    "    browser = init_browser()\n",
    "    nasa = {}\n",
    "\n",
    "    url = \"https://mars.nasa.gov/news/?page=0&per_page=40&order=publish_date+desc%2Ccreated_at+desc&search=&category=19%2C165%2C184%2C204&blank_scope=Latest\"\n",
    "    browser.visit(url)\n",
    "\n",
    "    html = browser.html\n",
    "    soup = BeautifulSoup(html, \"html.parser\")\n",
    "\n",
    "    nasa[\"news_title \"] = soup.find(class_=\"content_title\").get_text()\n",
    "    nasa[\"article body\"] = soup.find(class_= \"article_teaser_body\").get_text()\n",
    "    \n",
    "    #print(listings[\"news_title \"])\n",
    "    #listings[\"price\"] = soup.find(\"span\", class_=\"result-price\").get_text()\n",
    "    #listings[\"hood\"] = soup.find(\"span\", class_=\"result-hood\").get_text()\n",
    "    #listings[\"picture\"] = soup.find(\"div\", class_ = \"swipe-wrap\").div.img('src')\n",
    "    #print(soup.find(\"div\", class_ = \"swipe-wrap\").div.img['src'])\n",
    "\n",
    "    browser.quit()\n",
    "    # this closes the browser.\n",
    "\n",
    "    #eturn listings\n"
   ]
  },
  {
   "cell_type": "code",
   "execution_count": 7,
   "metadata": {},
   "outputs": [
    {
     "name": "stdout",
     "output_type": "stream",
     "text": [
      "Mars 2020 Unwrapped and Ready for More Testing\n",
      "In time-lapse video, bunny-suited engineers remove the inner layer of protective foil on NASA's Mars 2020 rover after it was relocated for testing.\n"
     ]
    }
   ],
   "source": [
    "print(nasa[\"news_title \"])\n",
    "print(nasa[\"article body\"])"
   ]
  },
  {
   "cell_type": "code",
   "execution_count": 8,
   "metadata": {},
   "outputs": [],
   "source": [
    "#let's try to table but instead use or other method. \n",
    "import urllib.request\n",
    "import requests\n",
    "url = urllib.request.urlopen(\"https://space-facts.com/mars/\").read()\n",
    "soup = BeautifulSoup(url,'lxml')\n",
    "table = soup.find('table')\n",
    "table_rows = table.find_all('tr')"
   ]
  },
  {
   "cell_type": "code",
   "execution_count": 19,
   "metadata": {},
   "outputs": [
    {
     "data": {
      "text/plain": [
       "['6,779 km',\n",
       " '6.39 × 10^23 kg',\n",
       " '2',\n",
       " '227,943,824 km',\n",
       " '687 Earth days',\n",
       " '-153 to 20 °C']"
      ]
     },
     "execution_count": 19,
     "metadata": {},
     "output_type": "execute_result"
    }
   ],
   "source": []
  },
  {
   "cell_type": "code",
   "execution_count": 30,
   "metadata": {},
   "outputs": [],
   "source": []
  },
  {
   "cell_type": "code",
   "execution_count": 9,
   "metadata": {},
   "outputs": [],
   "source": [
    "#this was shamlestly pulled from a stack overflow example \n",
    "#https://stackoverflow.com/questions/8139797/how-do-i-extract-table-data-in-pairs-using-beautifulsoup\n",
    "table = soup.find(\"table\", id = \"tablepress-p-mars\")\n",
    "rows = table.findAll('tr')\n",
    "\n",
    "column1 = []\n",
    "column2 = []\n",
    "\n",
    "for tr in rows:\n",
    "    td = tr.find_all('td')\n",
    "    n =0\n",
    "    row = []\n",
    "    for i in td:\n",
    "        a = i.text\n",
    "        if n==0:\n",
    "            column1.append((a))\n",
    "            n = n+1\n",
    "        elif n ==1: \n",
    "            column2.append((a))\n",
    "            n = n+1    \n",
    "column2            \n",
    "mars_data_df = pd.DataFrame(column1,column2)"
   ]
  },
  {
   "cell_type": "code",
   "execution_count": 10,
   "metadata": {},
   "outputs": [
    {
     "data": {
      "text/html": [
       "<div>\n",
       "<style scoped>\n",
       "    .dataframe tbody tr th:only-of-type {\n",
       "        vertical-align: middle;\n",
       "    }\n",
       "\n",
       "    .dataframe tbody tr th {\n",
       "        vertical-align: top;\n",
       "    }\n",
       "\n",
       "    .dataframe thead th {\n",
       "        text-align: right;\n",
       "    }\n",
       "</style>\n",
       "<table border=\"1\" class=\"dataframe\">\n",
       "  <thead>\n",
       "    <tr style=\"text-align: right;\">\n",
       "      <th></th>\n",
       "      <th>0</th>\n",
       "    </tr>\n",
       "  </thead>\n",
       "  <tbody>\n",
       "    <tr>\n",
       "      <th>6,792 km</th>\n",
       "      <td>Equatorial Diameter:</td>\n",
       "    </tr>\n",
       "    <tr>\n",
       "      <th>6,752 km</th>\n",
       "      <td>Polar Diameter:</td>\n",
       "    </tr>\n",
       "    <tr>\n",
       "      <th>6.39 × 10^23 kg (0.11 Earths)</th>\n",
       "      <td>Mass:</td>\n",
       "    </tr>\n",
       "    <tr>\n",
       "      <th>2 (Phobos &amp; Deimos)</th>\n",
       "      <td>Moons:</td>\n",
       "    </tr>\n",
       "    <tr>\n",
       "      <th>227,943,824 km (1.38 AU)</th>\n",
       "      <td>Orbit Distance:</td>\n",
       "    </tr>\n",
       "    <tr>\n",
       "      <th>687 days (1.9 years)</th>\n",
       "      <td>Orbit Period:</td>\n",
       "    </tr>\n",
       "    <tr>\n",
       "      <th>-87 to -5 °C</th>\n",
       "      <td>Surface Temperature:</td>\n",
       "    </tr>\n",
       "    <tr>\n",
       "      <th>2nd millennium BC</th>\n",
       "      <td>First Record:</td>\n",
       "    </tr>\n",
       "    <tr>\n",
       "      <th>Egyptian astronomers</th>\n",
       "      <td>Recorded By:</td>\n",
       "    </tr>\n",
       "  </tbody>\n",
       "</table>\n",
       "</div>"
      ],
      "text/plain": [
       "                                                   0\n",
       "6,792 km                        Equatorial Diameter:\n",
       "6,752 km                             Polar Diameter:\n",
       "6.39 × 10^23 kg (0.11 Earths)                  Mass:\n",
       "2 (Phobos & Deimos)                           Moons:\n",
       "227,943,824 km (1.38 AU)             Orbit Distance:\n",
       "687 days (1.9 years)                   Orbit Period:\n",
       "-87 to -5 °C                   Surface Temperature: \n",
       "2nd millennium BC                      First Record:\n",
       "Egyptian astronomers                    Recorded By:"
      ]
     },
     "execution_count": 10,
     "metadata": {},
     "output_type": "execute_result"
    }
   ],
   "source": [
    "mars_data_df.to_html('filename.html')\n",
    "mars_data_df"
   ]
  },
  {
   "cell_type": "code",
   "execution_count": 11,
   "metadata": {},
   "outputs": [
    {
     "data": {
      "text/plain": [
       "'<table border=\"1\" class=\"dataframe\">  <thead>    <tr style=\"text-align: left;\">      <th></th>      <th>0</th>    </tr>  </thead>  <tbody>    <tr>      <th>6,792 km</th>      <td>Equatorial Diameter:</td>    </tr>    <tr>      <th>6,752 km</th>      <td>Polar Diameter:</td>    </tr>    <tr>      <th>6.39 × 10^23 kg (0.11 Earths)</th>      <td>Mass:</td>    </tr>    <tr>      <th>2 (Phobos &amp; Deimos)</th>      <td>Moons:</td>    </tr>    <tr>      <th>227,943,824 km (1.38 AU)</th>      <td>Orbit Distance:</td>    </tr>    <tr>      <th>687 days (1.9 years)</th>      <td>Orbit Period:</td>    </tr>    <tr>      <th>-87 to -5 °C</th>      <td>Surface Temperature:</td>    </tr>    <tr>      <th>2nd millennium BC</th>      <td>First Record:</td>    </tr>    <tr>      <th>Egyptian astronomers</th>      <td>Recorded By:</td>    </tr>  </tbody></table>'"
      ]
     },
     "execution_count": 11,
     "metadata": {},
     "output_type": "execute_result"
    }
   ],
   "source": [
    "htmldata = mars_data_df.to_html(justify  = \"left\")\n",
    "htmldata2 = htmldata.replace('\\n', '')\n",
    "htmldata2\n",
    "# need to render html data"
   ]
  },
  {
   "cell_type": "code",
   "execution_count": 12,
   "metadata": {},
   "outputs": [],
   "source": [
    "\n",
    "# this is for mars facts\n",
    "url = \"https://space-facts.com/mars/\"\n",
    "\n",
    "table = pd.read_html(url)\n",
    "# this looks realy ugly. "
   ]
  },
  {
   "cell_type": "code",
   "execution_count": 13,
   "metadata": {},
   "outputs": [
    {
     "data": {
      "text/plain": [
       "list"
      ]
     },
     "execution_count": 13,
     "metadata": {},
     "output_type": "execute_result"
    }
   ],
   "source": [
    "type(table)"
   ]
  },
  {
   "cell_type": "code",
   "execution_count": 14,
   "metadata": {},
   "outputs": [
    {
     "data": {
      "text/html": [
       "<div>\n",
       "<style scoped>\n",
       "    .dataframe tbody tr th:only-of-type {\n",
       "        vertical-align: middle;\n",
       "    }\n",
       "\n",
       "    .dataframe tbody tr th {\n",
       "        vertical-align: top;\n",
       "    }\n",
       "\n",
       "    .dataframe thead th {\n",
       "        text-align: right;\n",
       "    }\n",
       "</style>\n",
       "<table border=\"1\" class=\"dataframe\">\n",
       "  <thead>\n",
       "    <tr style=\"text-align: right;\">\n",
       "      <th></th>\n",
       "      <th>object</th>\n",
       "      <th>value</th>\n",
       "    </tr>\n",
       "  </thead>\n",
       "  <tbody>\n",
       "    <tr>\n",
       "      <th>0</th>\n",
       "      <td>Diameter:</td>\n",
       "      <td>6,779 km</td>\n",
       "    </tr>\n",
       "    <tr>\n",
       "      <th>1</th>\n",
       "      <td>Mass:</td>\n",
       "      <td>6.39 × 10^23 kg</td>\n",
       "    </tr>\n",
       "    <tr>\n",
       "      <th>2</th>\n",
       "      <td>Moons:</td>\n",
       "      <td>2</td>\n",
       "    </tr>\n",
       "    <tr>\n",
       "      <th>3</th>\n",
       "      <td>Distance from Sun:</td>\n",
       "      <td>227,943,824 km</td>\n",
       "    </tr>\n",
       "    <tr>\n",
       "      <th>4</th>\n",
       "      <td>Length of Year:</td>\n",
       "      <td>687 Earth days</td>\n",
       "    </tr>\n",
       "    <tr>\n",
       "      <th>5</th>\n",
       "      <td>Temperature:</td>\n",
       "      <td>-153 to 20 °C</td>\n",
       "    </tr>\n",
       "  </tbody>\n",
       "</table>\n",
       "</div>"
      ],
      "text/plain": [
       "               object            value\n",
       "0           Diameter:         6,779 km\n",
       "1               Mass:  6.39 × 10^23 kg\n",
       "2              Moons:                2\n",
       "3  Distance from Sun:   227,943,824 km\n",
       "4     Length of Year:   687 Earth days\n",
       "5        Temperature:    -153 to 20 °C"
      ]
     },
     "execution_count": 14,
     "metadata": {},
     "output_type": "execute_result"
    }
   ],
   "source": [
    "mars_facts = table[0]\n",
    "mars_facts.columns = ['object', 'value', 'planet_we_dont_care_abaout']\n",
    "mars_facts = mars_facts.drop(columns = ['planet_we_dont_care_abaout'])\n",
    "mars_facts"
   ]
  },
  {
   "cell_type": "code",
   "execution_count": 22,
   "metadata": {},
   "outputs": [],
   "source": [
    "#currently not working. \n",
    "browser = init_browser()\n",
    "url = \"https://www.jpl.nasa.gov/spaceimages/?search=&category=Mars\"\n",
    "browser.visit(url)\n",
    "browser.click_link_by_partial_text(\"FULL IMAGE\")\n",
    "\n",
    "browser.is_element_present_by_text('more info', wait_time=1)\n",
    "browser.click_link_by_partial_text(\"more info\")\n",
    "\n",
    "\n",
    "html = browser.html\n",
    "soup = BeautifulSoup(html, \"html.parser\")\n",
    "\n",
    "\n",
    "picture = soup.find(\"img\",class_=\"main_image\").get('src')\n",
    "\n"
   ]
  },
  {
   "cell_type": "code",
   "execution_count": 16,
   "metadata": {},
   "outputs": [
    {
     "name": "stdout",
     "output_type": "stream",
     "text": [
      "https://www.jpl.nasa.gov/spaceimages/images/largesize/PIA18087_hires.jpg\n"
     ]
    }
   ],
   "source": [
    "print(\"https://www.jpl.nasa.gov\" +picture)"
   ]
  },
  {
   "cell_type": "code",
   "execution_count": 17,
   "metadata": {},
   "outputs": [],
   "source": [
    "# mars twitter \n",
    "browser = init_browser()\n",
    "url = \"https://twitter.com/marswxreport?lang=en\"\n",
    "browser.visit(url)\n",
    "\n",
    "html = browser.html\n",
    "soup = BeautifulSoup(html, \"html.parser\")\n",
    "\n",
    "twiiter = soup.find(class_=\"TweetTextSize TweetTextSize--normal js-tweet-text tweet-text\").get_text()\n",
    "browser.quit()"
   ]
  },
  {
   "cell_type": "code",
   "execution_count": 18,
   "metadata": {},
   "outputs": [
    {
     "data": {
      "text/plain": [
       "'InSight sol 316 (2019-10-16) low -101.8ºC (-151.3ºF) high -25.7ºC (-14.3ºF)\\nwinds from the SSE at 4.7 m/s (10.5 mph) gusting to 18.2 m/s (40.8 mph)\\npressure at 7.10 hPapic.twitter.com/tXtGZA6IPW'"
      ]
     },
     "execution_count": 18,
     "metadata": {},
     "output_type": "execute_result"
    }
   ],
   "source": [
    "twiiter"
   ]
  },
  {
   "cell_type": "code",
   "execution_count": 19,
   "metadata": {},
   "outputs": [],
   "source": [
    "# # mars twitter \n",
    "# browser = init_browser()\n",
    "# url = \"https://astrogeology.usgs.gov/search/results?q=hemisphere+enhanced&k1=target&v1=Mars\"\n",
    "# browser.visit(url)\n",
    "\n",
    "# browser.click_link_by_href('https://astrogeology.usgs.gov/search/map/Mars/Viking/cerberus_enhanced')\n",
    "\n",
    "# html = browser.html\n",
    "# soup = BeautifulSoup(html, \"html.parser\")\n",
    "\n",
    "\n",
    "\n",
    "# image1 = soup.find(class_=\"TweetTextSize TweetTextSize--normal js-tweet-text tweet-text\").get_text()"
   ]
  },
  {
   "cell_type": "code",
   "execution_count": 45,
   "metadata": {},
   "outputs": [],
   "source": [
    "#mars hemisphere. \n",
    "#currently not working. \n",
    "browser = init_browser()\n",
    "url = \"https://astrogeology.usgs.gov/search/results?q=hemisphere+enhanced&k1=target&v1=Mars\"\n",
    "browser.visit(url)\n",
    "browser.click_link_by_partial_text(\"Cerberus Hemisphere Enhanced\")\n",
    "\n",
    "# browser.is_element_present_by_text('Sample', wait_time=2)\n",
    "# browser.click_link_by_partial_text(\"Sample\")\n",
    "#hopefully closees the other tab\n",
    "#not working becouse plinter is opening a new tab\n",
    "\n",
    "html = browser.html\n",
    "\n",
    "soup = BeautifulSoup(html, \"html.parser\")\n",
    "\n",
    "\n",
    "#print(soup.find(class_ = \"gradient_container_top\").git_text())\n",
    "\n",
    "#image_data = browser.driver.find_element_by_tag_name(\"img\").get_attribute(\"src\")\n",
    "#picture = soup.find(\"img\",class_=\"main_image\").get('src')\n",
    "#picture = soup.find(\"img\",class_=\"thumb\").get('src')\n",
    "picture = soup.find(\"img\",class_=\"wide-image\").get('src')\n",
    "#images = soup.find('img')\n",
    "#picture = soup.find(\"img\",class_=\"thumb\").get('src')\n",
    "#browser.quit()\n",
    "\n"
   ]
  },
  {
   "cell_type": "code",
   "execution_count": 47,
   "metadata": {},
   "outputs": [
    {
     "name": "stdout",
     "output_type": "stream",
     "text": [
      "https://astrogeology.usgs.gov/cache/images/cfa62af2557222a02478f1fcd781d445_cerberus_enhanced.tif_full.jpg\n"
     ]
    }
   ],
   "source": [
    "print(\"https://astrogeology.usgs.gov\" +picture)"
   ]
  },
  {
   "cell_type": "code",
   "execution_count": 150,
   "metadata": {},
   "outputs": [
    {
     "ename": "AttributeError",
     "evalue": "'NoneType' object has no attribute 'get_text'",
     "output_type": "error",
     "traceback": [
      "\u001b[1;31m---------------------------------------------------------------------------\u001b[0m",
      "\u001b[1;31mAttributeError\u001b[0m                            Traceback (most recent call last)",
      "\u001b[1;32m<ipython-input-150-10290a8b3b0a>\u001b[0m in \u001b[0;36m<module>\u001b[1;34m\u001b[0m\n\u001b[0;32m      8\u001b[0m \u001b[0msoup\u001b[0m \u001b[1;33m=\u001b[0m \u001b[0mBeautifulSoup\u001b[0m\u001b[1;33m(\u001b[0m\u001b[0mhtml\u001b[0m\u001b[1;33m,\u001b[0m \u001b[1;34m\"html.parser\"\u001b[0m\u001b[1;33m)\u001b[0m\u001b[1;33m\u001b[0m\u001b[1;33m\u001b[0m\u001b[0m\n\u001b[0;32m      9\u001b[0m \u001b[1;33m\u001b[0m\u001b[0m\n\u001b[1;32m---> 10\u001b[1;33m \u001b[0mmars\u001b[0m\u001b[1;33m[\u001b[0m\u001b[1;34m\"diameter\"\u001b[0m\u001b[1;33m]\u001b[0m \u001b[1;33m=\u001b[0m \u001b[0msoup\u001b[0m\u001b[1;33m.\u001b[0m\u001b[0mfind\u001b[0m\u001b[1;33m(\u001b[0m\u001b[0mclass_\u001b[0m\u001b[1;33m=\u001b[0m\u001b[1;34m\"carousel_item\"\u001b[0m\u001b[1;33m)\u001b[0m\u001b[1;33m.\u001b[0m\u001b[0mget_text\u001b[0m\u001b[1;33m(\u001b[0m\u001b[1;33m)\u001b[0m\u001b[1;33m\u001b[0m\u001b[1;33m\u001b[0m\u001b[0m\n\u001b[0m\u001b[0;32m     11\u001b[0m \u001b[1;31m#mars[\"article body\"] = soup.find(class_= \"article_teaser_body\").get_text()\u001b[0m\u001b[1;33m\u001b[0m\u001b[1;33m\u001b[0m\u001b[1;33m\u001b[0m\u001b[0m\n\u001b[0;32m     12\u001b[0m \u001b[1;33m\u001b[0m\u001b[0m\n",
      "\u001b[1;31mAttributeError\u001b[0m: 'NoneType' object has no attribute 'get_text'"
     ]
    }
   ],
   "source": [
    "#     browser = init_browser()\n",
    "#     mars = {}\n",
    "\n",
    "#     url = \"https://space-facts.com/mars/\"\n",
    "#     browser.visit(url)\n",
    "\n",
    "#     html = browser.html\n",
    "#     soup = BeautifulSoup(html, \"html.parser\")\n",
    "\n",
    "#     mars[\"diameter\"] = soup.find(class_=\"carousel_item\").get_text()\n",
    "#     #mars[\"article body\"] = soup.find(class_= \"article_teaser_body\").get_text()\n",
    "    \n",
    "#     #print(listings[\"news_title \"])\n",
    "#     #listings[\"price\"] = soup.find(\"span\", class_=\"result-price\").get_text()\n",
    "#     #listings[\"hood\"] = soup.find(\"span\", class_=\"result-hood\").get_text()\n",
    "#     #listings[\"picture\"] = soup.find(\"div\", class_ = \"swipe-wrap\").div.img('src')\n",
    "#     #print(soup.find(\"div\", class_ = \"swipe-wrap\").div.img['src'])\n",
    "\n",
    "#     browser.quit()\n"
   ]
  },
  {
   "cell_type": "code",
   "execution_count": 87,
   "metadata": {},
   "outputs": [
    {
     "data": {
      "text/plain": [
       "'Mars'"
      ]
     },
     "execution_count": 87,
     "metadata": {},
     "output_type": "execute_result"
    }
   ],
   "source": [
    "mars[\"diameter\"]"
   ]
  },
  {
   "cell_type": "code",
   "execution_count": 62,
   "metadata": {},
   "outputs": [],
   "source": [
    "@app.route(\"/scrape\")\n",
    "def scraper():\n",
    "    listings = mongo.db.listings\n",
    "    listings_data = scrape_nasa.scrape()\n",
    "\n",
    "    listings.update({}, listings_data, upsert=True)\n",
    "    #update if it doesen't exsist insert if it does not\n",
    "    return redirect(\"/\", code=302)\n",
    "    #redirect takes us back to home, \"code 302\" lest the broser know it was an iniated redirect"
   ]
  },
  {
   "cell_type": "code",
   "execution_count": 56,
   "metadata": {},
   "outputs": [
    {
     "data": {
      "text/plain": [
       "[]"
      ]
     },
     "execution_count": 56,
     "metadata": {},
     "output_type": "execute_result"
    }
   ],
   "source": [
    "listings"
   ]
  },
  {
   "cell_type": "code",
   "execution_count": 7,
   "metadata": {},
   "outputs": [
    {
     "name": "stdout",
     "output_type": "stream",
     "text": [
      " * Serving Flask app \"__main__\" (lazy loading)\n",
      " * Environment: production\n",
      "   WARNING: Do not use the development server in a production environment.\n",
      "   Use a production WSGI server instead.\n",
      " * Debug mode: on\n"
     ]
    },
    {
     "name": "stderr",
     "output_type": "stream",
     "text": [
      " * Restarting with stat\n"
     ]
    },
    {
     "ename": "SystemExit",
     "evalue": "1",
     "output_type": "error",
     "traceback": [
      "An exception has occurred, use %tb to see the full traceback.\n",
      "\u001b[1;31mSystemExit\u001b[0m\u001b[1;31m:\u001b[0m 1\n"
     ]
    },
    {
     "name": "stderr",
     "output_type": "stream",
     "text": [
      "C:\\Users\\adam9\\Anaconda3\\lib\\site-packages\\IPython\\core\\interactiveshell.py:3304: UserWarning: To exit: use 'exit', 'quit', or Ctrl-D.\n",
      "  warn(\"To exit: use 'exit', 'quit', or Ctrl-D.\", stacklevel=1)\n"
     ]
    }
   ],
   "source": [
    "if __name__ == \"__main__\":\n",
    "    app.run(debug=True)"
   ]
  }
 ],
 "metadata": {
  "kernelspec": {
   "display_name": "Python 3",
   "language": "python",
   "name": "python3"
  },
  "language_info": {
   "codemirror_mode": {
    "name": "ipython",
    "version": 3
   },
   "file_extension": ".py",
   "mimetype": "text/x-python",
   "name": "python",
   "nbconvert_exporter": "python",
   "pygments_lexer": "ipython3",
   "version": "3.7.3"
  }
 },
 "nbformat": 4,
 "nbformat_minor": 2
}
